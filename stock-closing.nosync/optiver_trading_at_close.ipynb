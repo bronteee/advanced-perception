{
 "cells": [
  {
   "cell_type": "code",
   "execution_count": null,
   "id": "e1fddfa5-144a-4c14-9aef-250873be7f36",
   "metadata": {
    "execution": {
     "iopub.execute_input": "2023-11-07T03:05:10.882767Z",
     "iopub.status.busy": "2023-11-07T03:05:10.881833Z"
    }
   },
   "outputs": [],
   "source": [
   import torch
import pandas as pd
import numpy as np
from typing import Literal
import torch.nn as nn
import torch.optim as optim
import copy
import tqdm
from sklearn.model_selection import train_test_split
import matplotlib.pyplot as plt

DATA_FILE_DIR = '/notebooks/train.csv'
DROP_FEATURES = [
    # 'far_price',
    # 'near_price',
    'time_id',
    'row_id',
]
MAX_SECONDS = 55  # Maximum number of seconds * 10 in a window


def load_and_clean_data(
    data_filepath: str, fillna: Literal['zero', 'mean'] = 'mean'
) -> pd.DataFrame:
    """
    Load and clean data from csv file.
    Args:
        data_filepath (string): Path to the csv file with stock data.
        fillna (string): How to fill NaN values. Default: 'mean'.
    Returns:
        data (DataFrame): Cleaned data.
    """
    # Load data from csv file
    data = pd.read_csv(data_filepath)
    # Drop features
    data = data.drop(columns=DROP_FEATURES)
    if fillna == 'zero':
        # Replace all NaN values with 0
        data = data.fillna(0)
    elif fillna == 'mean':
        # Replace all NaN values in far_price and near_price with column mean
        data = data.fillna(data.mean())
    else:
        raise ValueError(f"fillna must be 'zero' or 'mean', not {fillna}.")
    return data

data = load_and_clean_data(DATA_FILE_DIR)
y = data['target'] #Target
X = data.drop('target', axis=1)  # Features

# train-test split for model evaluation
X_train, X_test, y_train, y_test = train_test_split(X, y, train_size=0.8, shuffle=True)
 
# Convert to 2D PyTorch tensors
X_train = torch.tensor(X_train.values, dtype=torch.float32)
y_train = torch.tensor(y_train.values, dtype=torch.float32).reshape(-1, 1)
X_test = torch.tensor(X_test.values, dtype=torch.float32)
y_test = torch.tensor(y_test.values, dtype=torch.float32).reshape(-1, 1)

print("data train", X_train.shape)
print("data test", X_test.shape)
print("target train", y_train.shape)
print("target test", y_test.shape)

# Define the model
model = nn.Sequential(
    nn.Linear(14, 12),
    nn.ReLU(),
    nn.Linear(12, 6),
    nn.ReLU(),
    nn.Linear(6, 1)
)

 
# loss function and optimizer
loss_fn = nn.L1Loss()  # mean square error
optimizer = optim.Adam(model.parameters(), lr=0.0001)
 
# training parameters
n_epochs = 10   # number of epochs to run
batch_size = 10  # size of each batch
batch_start = torch.arange(0, len(X_train), batch_size)
 
# Hold the best model
best_mse = np.inf   # init to infinity
best_weights = None
history = []
 
# training loop
for epoch in range(n_epochs):
    model.train()
    with tqdm.tqdm(batch_start, unit="batch", mininterval=0, disable=True) as bar:
        bar.set_description(f"Epoch {epoch}")
        for start in bar:
            # take a batch
            X_batch = X_train[start:start+batch_size]
            y_batch = y_train[start:start+batch_size]
            # forward pass
            y_pred = model(X_batch)
            loss = loss_fn(y_pred, y_batch)
            # backward pass
            optimizer.zero_grad()
            loss.backward()
            # update weights
            optimizer.step()
            # print progress
            bar.set_postfix(mse=float(loss))
    # evaluate accuracy at end of each epoch
    model.eval()
    y_pred = model(X_test)
    mse = loss_fn(y_pred, y_test)
    mse = float(mse)
    history.append(mse)
    if mse < best_mse:
        best_mse = mse
        best_weights = copy.deepcopy(model.state_dict())
 
# restore model and return best accuracy
model.load_state_dict(best_weights)

# Calculate MAE
MAE = np.sqrt(2/math.pi)*np.sqrt(best_mse)
print(f'Mean Absolute Error (MAE): {mae}')

print("MSE: %.2f" % best_mse)
print("RMSE: %.2f" % np.sqrt(best_mse))
plt.plot(history)
plt.show()
   ]
  },
  {
   "cell_type": "code",
   "execution_count": null,
   "id": "1ac47c4a-33da-4519-9f0a-f832d83c1e5b",
   "metadata": {},
   "outputs": [],
   "source": []
  }
 ],
 "metadata": {
  "kernelspec": {
   "display_name": "Python 3 (ipykernel)",
   "language": "python",
   "name": "python3"
  },
  "language_info": {
   "codemirror_mode": {
    "name": "ipython",
    "version": 3
   },
   "file_extension": ".py",
   "mimetype": "text/x-python",
   "name": "python",
   "nbconvert_exporter": "python",
   "pygments_lexer": "ipython3",
   "version": "3.9.16"
  }
 },
 "nbformat": 4,
 "nbformat_minor": 5
}
